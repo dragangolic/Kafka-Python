{
 "cells": [
  {
   "cell_type": "code",
   "execution_count": 1,
   "id": "c73667f2",
   "metadata": {},
   "outputs": [
    {
     "name": "stdout",
     "output_type": "stream",
     "text": [
      "Collecting kafka-python\n",
      "  Downloading kafka_python-2.0.2-py2.py3-none-any.whl (246 kB)\n",
      "     -------------------------------------- 246.5/246.5 kB 5.1 MB/s eta 0:00:00\n",
      "Installing collected packages: kafka-python\n",
      "Successfully installed kafka-python-2.0.2\n",
      "Note: you may need to restart the kernel to use updated packages.\n"
     ]
    }
   ],
   "source": [
    "pip install kafka-python"
   ]
  },
  {
   "cell_type": "markdown",
   "id": "c3dd69c3",
   "metadata": {},
   "source": [
    "# KafkaAdminClient Class\n",
    "The main purpose of KafkaAdminClient class is to enable fundamental administrative management operations\n",
    "on kafka server such as creating/deleting topic, retrieving, and updating topic configurations and so on.\n",
    "\n",
    "Create a KafkaAdminClient object\n",
    "To use KafkaAdminClient, we first need to define and create a KafkaAdminClient object:"
   ]
  },
  {
   "cell_type": "code",
   "execution_count": 3,
   "id": "752ff88a",
   "metadata": {},
   "outputs": [],
   "source": [
    "admin_client = KafkaAdminClient(bootstrap_servers=\"localhost:9092\", client_id='test')"
   ]
  },
  {
   "cell_type": "markdown",
   "id": "590fc4af",
   "metadata": {},
   "source": [
    "bootstrap_servers=\"localhost:9092\" argument specifies the host/IP and port that the consumer should contact to\n",
    "bootstrap initial cluster metadata\n",
    "\n",
    "client_id specifies an id of current admin client\n",
    "\n",
    "Create new topics\n",
    "\n",
    "Next, the most common usage of admin_client is managing topics such as creating and deleting topics.\n",
    "\n",
    "To create new topics, we first need to define an empty topic list:"
   ]
  },
  {
   "cell_type": "code",
   "execution_count": null,
   "id": "ec8f7537",
   "metadata": {},
   "outputs": [],
   "source": [
    "topic_list = []"
   ]
  },
  {
   "cell_type": "markdown",
   "id": "098d3013",
   "metadata": {},
   "source": [
    "Then we use the NewTopic class to create a topic with name equals bankbranch,\n",
    "partition nums equals to 2, and replication factor equals to 1."
   ]
  },
  {
   "cell_type": "code",
   "execution_count": null,
   "id": "eca7b8de",
   "metadata": {},
   "outputs": [],
   "source": [
    "new_topic = NewTopic(name=\"bankbranch\", num_partitions= 2, replication_factor=1)\n",
    "topic_list.append(new_topic)"
   ]
  },
  {
   "cell_type": "markdown",
   "id": "caa40b2c",
   "metadata": {},
   "source": [
    "At last, we can use create_topics(...) method to create new topics:"
   ]
  },
  {
   "cell_type": "code",
   "execution_count": null,
   "id": "9a6f709b",
   "metadata": {},
   "outputs": [],
   "source": [
    "admin_client.create_topics(new_topics=topic_list)"
   ]
  },
  {
   "cell_type": "markdown",
   "id": "d938988e",
   "metadata": {},
   "source": [
    "Above create topic operation is equivalent to using kafka-topics.sh --topic in Kafka CLI client:"
   ]
  },
  {
   "cell_type": "code",
   "execution_count": null,
   "id": "4d53adce",
   "metadata": {},
   "outputs": [],
   "source": [
    "\"kafka-topics.sh --bootstrap-server localhost:9092 --create --topic bankbranch  --partitions 2 --replication_factor 1\""
   ]
  },
  {
   "cell_type": "markdown",
   "id": "75e79804",
   "metadata": {},
   "source": [
    "Describe a topic\n",
    "Once new topics are created, we can easily check its configuration details using describe_configs()\n",
    "method"
   ]
  },
  {
   "cell_type": "code",
   "execution_count": null,
   "id": "987d1565",
   "metadata": {},
   "outputs": [],
   "source": [
    "configs = admin_client.describe_configs(\n",
    "    config_resources=[ConfigResource(ConfigResourceType.TOPIC, \"bankbranch\")])"
   ]
  },
  {
   "cell_type": "markdown",
   "id": "9e89c5f3",
   "metadata": {},
   "source": [
    "Above describe topic operation is equivalent to using kafka-topics.sh --describe in Kafka CLI client:"
   ]
  },
  {
   "cell_type": "markdown",
   "id": "90b141b7",
   "metadata": {},
   "source": [
    "kafka-topics.sh --bootstrap-server localhost:9092 --describe --topic bankbranch"
   ]
  },
  {
   "cell_type": "markdown",
   "id": "df081959",
   "metadata": {},
   "source": [
    "KafkaProducer\n",
    "Now we have a new bankbranch topic created, we can start produce messages to the topic.\n",
    "\n",
    "For kafka-python, we will use KafkaProducer class to produce messages.\n",
    "Since many real-world message values are in the format of JSON, we will show you how to publish JSON messages as an example.\n",
    "\n",
    "First, let’s define and create a KafkaProducer"
   ]
  },
  {
   "cell_type": "code",
   "execution_count": null,
   "id": "798eef03",
   "metadata": {},
   "outputs": [],
   "source": [
    "producer = KafkaProducer(value_serializer=lambda v: json.dumps(v).encode('utf-8'))"
   ]
  },
  {
   "cell_type": "markdown",
   "id": "4ffef75e",
   "metadata": {},
   "source": [
    "Since Kafka produces and consumes messages in raw bytes, we need to encode our JSON messages and serialize them\n",
    "into bytes.\n",
    "\n",
    "For the value_serializer argument, we define a lambda function to take a Python dict/list object and\n",
    "serialize it into bytes.\n",
    "\n",
    "Then, with the KafkaProducer created, we can use it to produce two ATM transaction messages in JSON format as follows:"
   ]
  },
  {
   "cell_type": "code",
   "execution_count": null,
   "id": "ad1f2c02",
   "metadata": {},
   "outputs": [],
   "source": [
    "producer.send(\"bankbranch\", {'atmid':1, 'transid':100})"
   ]
  },
  {
   "cell_type": "code",
   "execution_count": null,
   "id": "b2754ef7",
   "metadata": {},
   "outputs": [],
   "source": [
    "producer.send(\"bankbranch\", {'atmid':2, 'transid':101})"
   ]
  },
  {
   "cell_type": "markdown",
   "id": "b7d87546",
   "metadata": {},
   "source": [
    "The first argument specifies the topic bankbranch to be sent, and the second argument represents\n",
    "the message value in a Python dict format and will be serialized into bytes.\n",
    "\n",
    "The above producing message operation is equivalent to using kafka-console-producer.sh --topic in Kafka CLI client:\n",
    "    \n",
    "    \n",
    "    \n",
    "kafka-console-producer.sh --bootstrap-server localhost:9092 --topic bankbranch"
   ]
  },
  {
   "cell_type": "markdown",
   "id": "bc7a9b99",
   "metadata": {},
   "source": [
    "KafkaConsumer\n",
    "In the previous step, we published two JSON messages. Now we can use the KafkaConsumer class to\n",
    "consume them.\n",
    "\n",
    "We just need to define and create a KafkaConsumer subscribing to the topic bankbranch:"
   ]
  },
  {
   "cell_type": "code",
   "execution_count": null,
   "id": "da251a78",
   "metadata": {},
   "outputs": [],
   "source": [
    "consumer = KafkaConsumer('bankbranch')"
   ]
  },
  {
   "cell_type": "markdown",
   "id": "933addbf",
   "metadata": {},
   "source": [
    "Once the consumer is created, it will receive all available messages from the topic bankbranch. Then we\n",
    "can iterate and print them with the following code snippet:"
   ]
  },
  {
   "cell_type": "code",
   "execution_count": null,
   "id": "c4f24628",
   "metadata": {},
   "outputs": [],
   "source": [
    "for msg in consumer:\n",
    "    print(msg.value.decode(\"utf-8\"))"
   ]
  },
  {
   "cell_type": "markdown",
   "id": "e37f6039",
   "metadata": {},
   "source": [
    "The above consuming message operation is equivalent to using kafka-console-consumer.sh --topic in Kafka CLI client:\n",
    "\n",
    "kafka-console-consumer.sh --bootstrap-server localhost:9092 --topic bankbranch"
   ]
  },
  {
   "cell_type": "code",
   "execution_count": null,
   "id": "74722820",
   "metadata": {},
   "outputs": [],
   "source": []
  }
 ],
 "metadata": {
  "kernelspec": {
   "display_name": "Python 3 (ipykernel)",
   "language": "python",
   "name": "python3"
  },
  "language_info": {
   "codemirror_mode": {
    "name": "ipython",
    "version": 3
   },
   "file_extension": ".py",
   "mimetype": "text/x-python",
   "name": "python",
   "nbconvert_exporter": "python",
   "pygments_lexer": "ipython3",
   "version": "3.9.13"
  }
 },
 "nbformat": 4,
 "nbformat_minor": 5
}
